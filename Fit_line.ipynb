{
 "cells": [
  {
   "cell_type": "code",
   "execution_count": 1,
   "id": "e6423860-50c9-4034-b8ab-2dc0f6c879ca",
   "metadata": {},
   "outputs": [],
   "source": [
    "import matplotlib.pyplot as plt\n",
    "import numpy as np\n",
    "import matplotlib\n",
    "matplotlib.use('TkAgg')\n",
    "from matplotlib.backend_bases import MouseButton\n",
    "from matplotlib.pyplot import figure"
   ]
  },
  {
   "cell_type": "code",
   "execution_count": 2,
   "id": "21fc7684-0a17-4a51-b845-49ac8355e6da",
   "metadata": {
    "tags": []
   },
   "outputs": [],
   "source": [
    "# calculates a and b for the linear regression\n",
    "def my_linfit(x, y):\n",
    "\n",
    "    a = np.sum((x - np.mean(x)) * (y - np.mean(y))) / \\\n",
    "        np.sum(np.power(x - np.mean(x), 2))\n",
    "    b = np.mean(y) - a * np.mean(x)\n",
    "\n",
    "    return a, b"
   ]
  },
  {
   "cell_type": "code",
   "execution_count": 3,
   "id": "7bd09cc3-b965-4630-bada-e05176e24ede",
   "metadata": {},
   "outputs": [
    {
     "name": "stdout",
     "output_type": "stream",
     "text": [
      "[(-1.2473118279569895, 2.2494481236203088), (0.9749103942652324, -1.724061810154526), (0.47311827956989205, 0.9249448123620301), (1.440860215053763, 1.7527593818984544), (2.623655913978494, 1.36644591611479), (3.268817204301075, 3.629139072847681), (3.483870967741935, 4.3465783664459146), (7.498207885304659, 3.2428256070640167), (7.139784946236558, 3.187637969094922), (5.741935483870968, 4.788079470198674), (7.139784946236558, 5.615894039735098)]\n"
     ]
    }
   ],
   "source": [
    "# choose points for linear regression (opens in another window)\n",
    "plot1 = plt.axis([-2, 10, -2, 10])\n",
    "points = plt.ginput(n=-1, timeout=15, show_clicks=True,\n",
    "                    mouse_add=MouseButton.LEFT, mouse_stop=MouseButton.RIGHT)\n",
    "\n",
    "# save coordinates to x and y\n",
    "x_coordinates = []\n",
    "y_coordinates = []\n",
    "for i in range(0, len(points)):\n",
    "    x_coordinates.append(points[i][0])\n",
    "    y_coordinates.append(points[i][1])"
   ]
  },
  {
   "cell_type": "code",
   "execution_count": 15,
   "id": "6f162dbe-7f53-4b55-9ae6-902a9f0de1d0",
   "metadata": {},
   "outputs": [
    {
     "data": {
      "image/png": "[encoded data removed]",
      "text/plain": [
       "<Figure size 432x288 with 1 Axes>"
      ]
     },
     "metadata": {
      "needs_background": "light"
     },
     "output_type": "display_data"
    }
   ],
   "source": [
    "# plot the selected points\n",
    "%matplotlib inline\n",
    "x_val = [x[0] for x in points]\n",
    "y_val = [x[1] for x in points]\n",
    "\n",
    "plt.plot(x_val,y_val,'xk')\n",
    "plt.axis([-2, 10, -2, 20])\n",
    "plt.show()"
   ]
  },
  {
   "cell_type": "code",
   "execution_count": 16,
   "id": "f0912ca8-62b1-497e-9cd9-bda53afc1017",
   "metadata": {},
   "outputs": [
    {
     "name": "stdout",
     "output_type": "stream",
     "text": [
      "My fit: a=0.4501271079212361 and b=1.0938960933415782\n"
     ]
    },
    {
     "data": {
      "image/png": "[encoded data removed]",
      "text/plain": [
       "<Figure size 432x288 with 1 Axes>"
      ]
     },
     "metadata": {
      "needs_background": "light"
     },
     "output_type": "display_data"
    }
   ],
   "source": [
    "a, b = my_linfit(x_coordinates, y_coordinates)\n",
    "\n",
    "# Plot the figure\n",
    "plt.plot(x_coordinates, y_coordinates, 'kx')\n",
    "xp = np.arange(-2, 100, 0.1)\n",
    "plt.plot(xp, a * xp + b, 'r-')\n",
    "print(f\"My fit: a={a} and b={b}\")\n",
    "plt.axis([-2, 10, -2, 20])\n",
    "plt.show()"
   ]
  }
 ],
 "metadata": {
  "kernelspec": {
   "display_name": "Python 3 (ipykernel)",
   "language": "python",
   "name": "python3"
  },
  "language_info": {
   "codemirror_mode": {
    "name": "ipython",
    "version": 3
   },
   "file_extension": ".py",
   "mimetype": "text/x-python",
   "name": "python",
   "nbconvert_exporter": "python",
   "pygments_lexer": "ipython3",
   "version": "3.9.7"
  }
 },
 "nbformat": 4,
 "nbformat_minor": 5
}
